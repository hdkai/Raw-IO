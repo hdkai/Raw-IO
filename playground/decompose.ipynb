{
 "metadata": {
  "language_info": {
   "codemirror_mode": {
    "name": "ipython",
    "version": 3
   },
   "file_extension": ".py",
   "mimetype": "text/x-python",
   "name": "python",
   "nbconvert_exporter": "python",
   "pygments_lexer": "ipython3",
   "version": "3.8.5-final"
  },
  "orig_nbformat": 2,
  "kernelspec": {
   "name": "python3",
   "display_name": "Python 3",
   "language": "python"
  }
 },
 "nbformat": 4,
 "nbformat_minor": 2,
 "cells": [
  {
   "cell_type": "code",
   "execution_count": 1,
   "metadata": {},
   "outputs": [],
   "source": [
    "from numpy import array\n",
    "\n",
    "H = array([\n",
    "    [ 5.78705338e-01, -1.43072613e-01,  5.91361028e+02],\n",
    "    [-1.09886601e-01,  5.99081472e-01,  6.87147712e+02],\n",
    "    [-5.00223867e-05, -5.51276307e-05,  1.00000000e+00]\n",
    "])"
   ]
  },
  {
   "cell_type": "code",
   "execution_count": 9,
   "metadata": {},
   "outputs": [
    {
     "output_type": "execute_result",
     "data": {
      "text/plain": [
       "array([[ 1.00000000e+00,  0.00000000e+00,  0.00000000e+00],\n",
       "       [ 0.00000000e+00,  1.00000000e+00,  0.00000000e+00],\n",
       "       [-5.00223867e-05, -5.51276307e-05,  1.00000000e+00]])"
      ]
     },
     "metadata": {},
     "execution_count": 9
    }
   ],
   "source": [
    "H_P = array([\n",
    "    [1., 0., 0.],\n",
    "    [0., 1., 0.],\n",
    "    H[2]\n",
    "])\n",
    "H_P"
   ]
  },
  {
   "cell_type": "code",
   "execution_count": 12,
   "metadata": {},
   "outputs": [
    {
     "output_type": "execute_result",
     "data": {
      "text/plain": [
       "array([[ 6.08286628e-01, -1.10472281e-01,  5.91361028e+02],\n",
       "       [-7.55138324e-02,  6.36962297e-01,  6.87147712e+02],\n",
       "       [ 0.00000000e+00,  0.00000000e+00,  1.00000000e+00]])"
      ]
     },
     "metadata": {},
     "execution_count": 12
    }
   ],
   "source": [
    "from numpy.linalg import inv\n",
    "\n",
    "H_SA = H @ inv(H_P)\n",
    "H_SA"
   ]
  },
  {
   "cell_type": "code",
   "execution_count": 18,
   "metadata": {},
   "outputs": [
    {
     "output_type": "execute_result",
     "data": {
      "text/plain": [
       "array([[591.361028],\n",
       "       [687.147712],\n",
       "       [  1.      ]])"
      ]
     },
     "metadata": {},
     "execution_count": 18
    }
   ],
   "source": [
    "from numpy.linalg import svd\n",
    "\n",
    "t = H_SA[:,2:]\n",
    "t"
   ]
  },
  {
   "cell_type": "code",
   "execution_count": 46,
   "metadata": {},
   "outputs": [
    {
     "output_type": "execute_result",
     "data": {
      "text/plain": [
       "array([[ 0.60828663, -0.11047228],\n",
       "       [-0.07551383,  0.6369623 ]])"
      ]
     },
     "metadata": {},
     "execution_count": 46
    }
   ],
   "source": [
    "H_Af = H_SA[:2,:2]\n",
    "H_Af"
   ]
  },
  {
   "cell_type": "code",
   "execution_count": 47,
   "metadata": {},
   "outputs": [],
   "source": [
    "U, S, V = svd(H_Af)"
   ]
  },
  {
   "cell_type": "code",
   "execution_count": 48,
   "metadata": {},
   "outputs": [
    {
     "output_type": "execute_result",
     "data": {
      "text/plain": [
       "array([[-0.66159409,  0.74986216],\n",
       "       [ 0.74986216,  0.66159409]])"
      ]
     },
     "metadata": {},
     "execution_count": 48
    }
   ],
   "source": [
    "U"
   ]
  },
  {
   "cell_type": "code",
   "execution_count": 49,
   "metadata": {},
   "outputs": [
    {
     "output_type": "execute_result",
     "data": {
      "text/plain": [
       "array([[0.71696165, 0.        ],\n",
       "       [0.        , 0.52877788]])"
      ]
     },
     "metadata": {},
     "execution_count": 49
    }
   ],
   "source": [
    "from numpy import diag\n",
    "\n",
    "diag(S)"
   ]
  },
  {
   "cell_type": "code",
   "execution_count": 50,
   "metadata": {},
   "outputs": [
    {
     "output_type": "execute_result",
     "data": {
      "text/plain": [
       "array([[-0.6402906 ,  0.76813276],\n",
       "       [ 0.76813276,  0.6402906 ]])"
      ]
     },
     "metadata": {},
     "execution_count": 50
    }
   ],
   "source": [
    "V"
   ]
  },
  {
   "cell_type": "code",
   "execution_count": 51,
   "metadata": {},
   "outputs": [
    {
     "output_type": "execute_result",
     "data": {
      "text/plain": [
       "array([[ 0.60828663, -0.11047228],\n",
       "       [-0.07551383,  0.6369623 ]])"
      ]
     },
     "metadata": {},
     "execution_count": 51
    }
   ],
   "source": [
    "U @ diag(S) @ V"
   ]
  },
  {
   "cell_type": "code",
   "execution_count": 52,
   "metadata": {},
   "outputs": [
    {
     "output_type": "execute_result",
     "data": {
      "text/plain": [
       "array([[-0.99238234,  0.12319619],\n",
       "       [ 0.12319619,  0.99238234]])"
      ]
     },
     "metadata": {},
     "execution_count": 52
    }
   ],
   "source": [
    "from numpy.linalg import qr\n",
    "\n",
    "Q, R = qr(H_Af)\n",
    "Q"
   ]
  },
  {
   "cell_type": "code",
   "execution_count": 53,
   "metadata": {},
   "outputs": [
    {
     "output_type": "execute_result",
     "data": {
      "text/plain": [
       "array([[-0.61295592,  0.18810207],\n",
       "       [ 0.        ,  0.61850037]])"
      ]
     },
     "metadata": {},
     "execution_count": 53
    }
   ],
   "source": [
    "R"
   ]
  },
  {
   "cell_type": "code",
   "execution_count": 54,
   "metadata": {},
   "outputs": [
    {
     "output_type": "execute_result",
     "data": {
      "text/plain": [
       "-0.3791134627155406"
      ]
     },
     "metadata": {},
     "execution_count": 54
    }
   ],
   "source": [
    "from numpy.linalg import det\n",
    "\n",
    "det(R)"
   ]
  },
  {
   "cell_type": "code",
   "execution_count": 55,
   "metadata": {},
   "outputs": [
    {
     "output_type": "execute_result",
     "data": {
      "text/plain": [
       "-1.0"
      ]
     },
     "metadata": {},
     "execution_count": 55
    }
   ],
   "source": [
    "det(Q)"
   ]
  },
  {
   "cell_type": "code",
   "execution_count": 58,
   "metadata": {},
   "outputs": [
    {
     "output_type": "execute_result",
     "data": {
      "text/plain": [
       "2.6377327590456154"
      ]
     },
     "metadata": {},
     "execution_count": 58
    }
   ],
   "source": [
    "s = 1. / det(Q) / det(R)\n",
    "s"
   ]
  },
  {
   "cell_type": "code",
   "execution_count": 63,
   "metadata": {},
   "outputs": [
    {
     "output_type": "execute_result",
     "data": {
      "text/plain": [
       "array([[-2.61763940e+00,  3.24958619e-01,  5.91361028e+02],\n",
       "       [ 3.24958619e-01,  2.61763940e+00,  6.87147712e+02],\n",
       "       [ 0.00000000e+00,  0.00000000e+00,  1.00000000e+00]])"
      ]
     },
     "metadata": {},
     "execution_count": 63
    }
   ],
   "source": [
    "from numpy import eye\n",
    "\n",
    "H_S = eye(3)\n",
    "H_S[:2,:2] = s * Q\n",
    "H_S[:,2:] = t\n",
    "H_S"
   ]
  },
  {
   "cell_type": "code",
   "execution_count": 72,
   "metadata": {},
   "outputs": [
    {
     "output_type": "execute_result",
     "data": {
      "text/plain": [
       "array([[-0.23237984,  0.07131203,  0.        ],\n",
       "       [ 0.        ,  0.23448182,  0.        ],\n",
       "       [ 0.        ,  0.        ,  1.        ]])"
      ]
     },
     "metadata": {},
     "execution_count": 72
    }
   ],
   "source": [
    "H_A = eye(3)\n",
    "H_A[:2,:2] = R / s\n",
    "H_A"
   ]
  },
  {
   "cell_type": "code",
   "execution_count": 73,
   "metadata": {},
   "outputs": [
    {
     "output_type": "execute_result",
     "data": {
      "text/plain": [
       "array([[ 6.08286628e-01, -1.10472281e-01,  5.91361028e+02],\n",
       "       [-7.55138324e-02,  6.36962297e-01,  6.87147712e+02],\n",
       "       [ 0.00000000e+00,  0.00000000e+00,  1.00000000e+00]])"
      ]
     },
     "metadata": {},
     "execution_count": 73
    }
   ],
   "source": [
    "H_S @ H_A"
   ]
  },
  {
   "cell_type": "code",
   "execution_count": 68,
   "metadata": {},
   "outputs": [
    {
     "output_type": "execute_result",
     "data": {
      "text/plain": [
       "array([[ 6.08286628e-01, -1.10472281e-01,  5.91361028e+02],\n",
       "       [-7.55138324e-02,  6.36962297e-01,  6.87147712e+02],\n",
       "       [ 0.00000000e+00,  0.00000000e+00,  1.00000000e+00]])"
      ]
     },
     "metadata": {},
     "execution_count": 68
    }
   ],
   "source": [
    "H_SA"
   ]
  },
  {
   "cell_type": "code",
   "execution_count": 74,
   "metadata": {},
   "outputs": [
    {
     "output_type": "execute_result",
     "data": {
      "text/plain": [
       "array([[ 5.78705338e-01, -1.43072613e-01,  5.91361028e+02],\n",
       "       [-1.09886601e-01,  5.99081472e-01,  6.87147712e+02],\n",
       "       [-5.00223867e-05, -5.51276307e-05,  1.00000000e+00]])"
      ]
     },
     "metadata": {},
     "execution_count": 74
    }
   ],
   "source": [
    "H_S @ H_A @ H_P"
   ]
  },
  {
   "cell_type": "code",
   "execution_count": 75,
   "metadata": {},
   "outputs": [
    {
     "output_type": "execute_result",
     "data": {
      "text/plain": [
       "array([[ 5.78705338e-01, -1.43072613e-01,  5.91361028e+02],\n",
       "       [-1.09886601e-01,  5.99081472e-01,  6.87147712e+02],\n",
       "       [-5.00223867e-05, -5.51276307e-05,  1.00000000e+00]])"
      ]
     },
     "metadata": {},
     "execution_count": 75
    }
   ],
   "source": [
    "H"
   ]
  },
  {
   "cell_type": "code",
   "execution_count": null,
   "metadata": {},
   "outputs": [],
   "source": []
  }
 ]
}