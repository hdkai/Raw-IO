{
 "metadata": {
  "language_info": {
   "codemirror_mode": {
    "name": "ipython",
    "version": 3
   },
   "file_extension": ".py",
   "mimetype": "text/x-python",
   "name": "python",
   "nbconvert_exporter": "python",
   "pygments_lexer": "ipython3",
   "version": 3
  },
  "orig_nbformat": 2
 },
 "nbformat": 4,
 "nbformat_minor": 2,
 "cells": [
  {
   "source": [
    "# RAW Demosaicing\n",
    "1. Optional. Find and replace bad pixels.\n",
    "2. Compute saturation level\n",
    "3. Demosaic with $\\gamma = (1, 1)$ and clipped highlights.\n",
    "4. Optional. Read metadata.\n",
    "5. Chromaticity noise reduction.\n",
    "    - Median filter\n",
    "    - Bilateral filter\n",
    "6. Gamma correction, with $\\gamma = 2.2$\n",
    "7. Apply standard filmic tone curve\n",
    "    - Natural cubic\n",
    "    - LUT"
   ],
   "cell_type": "markdown",
   "metadata": {}
  },
  {
   "cell_type": "code",
   "execution_count": null,
   "metadata": {},
   "outputs": [],
   "source": []
  }
 ]
}