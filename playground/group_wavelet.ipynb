{
 "metadata": {
  "language_info": {
   "codemirror_mode": {
    "name": "ipython",
    "version": 3
   },
   "file_extension": ".py",
   "mimetype": "text/x-python",
   "name": "python",
   "nbconvert_exporter": "python",
   "pygments_lexer": "ipython3",
   "version": "3.8.5-final"
  },
  "orig_nbformat": 2,
  "kernelspec": {
   "name": "python36564bit19053807de3b44f894d4c8758c328f67",
   "display_name": "Python 3.6.5 64-bit"
  }
 },
 "nbformat": 4,
 "nbformat_minor": 2,
 "cells": [
  {
   "source": [
    "# Wavelet Grouping"
   ],
   "cell_type": "markdown",
   "metadata": {}
  },
  {
   "cell_type": "code",
   "execution_count": 8,
   "metadata": {},
   "outputs": [
    {
     "output_type": "execute_result",
     "data": {
      "text/plain": [
       "0.04628753662109375"
      ]
     },
     "metadata": {},
     "execution_count": 8
    }
   ],
   "source": [
    "from imagehash import whash\n",
    "from PIL import Image\n",
    "\n",
    "# Load images\n",
    "# image_a = Image.open(\"/Users/yusuf/Desktop/c/1.jpg\")\n",
    "# image_b = Image.open(\"/Users/yusuf/Desktop/c/2.jpg\")\n",
    "image_a = Image.open(\"/Users/yusuf/Desktop/Margaret/brackets/DSC09875.jpg\")\n",
    "image_b = Image.open(\"/Users/yusuf/Desktop/Margaret/brackets/DSC09876.jpg\")\n",
    "\n",
    "# Compute hashes\n",
    "hash_a = whash(image_a, hash_size=512)\n",
    "hash_b = whash(image_b, hash_size=512)\n",
    "\n",
    "# Compute delta\n",
    "hamming_distance = hash_a - hash_b\n",
    "relative_distance = hamming_distance / len(hash_a.hash) ** 2\n",
    "relative_distance"
   ]
  },
  {
   "cell_type": "code",
   "execution_count": null,
   "metadata": {},
   "outputs": [],
   "source": []
  }
 ]
}